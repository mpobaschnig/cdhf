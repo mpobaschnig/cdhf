{
 "cells": [
  {
   "cell_type": "code",
   "execution_count": 1,
   "metadata": {},
   "outputs": [
    {
     "name": "stdout",
     "output_type": "stream",
     "text": [
      "Recommended teams: [1380, 132, 875, 589, 113, 1940]\n",
      "Recommended channels: [1120, 10057, 11864, 1021]\n"
     ]
    }
   ],
   "source": [
    "import cd\n",
    "\n",
    "cd = cd.CD()\n",
    "\n",
    "cd.find()\n",
    "\n",
    "# For now, only the substituted channel ids can be used\n",
    "recs = cd.get_recommendations([10, 100, 200])\n",
    "\n",
    "print(f\"Recommended teams: {recs[0]}\")\n",
    "print(f\"Recommended channels: {recs[1]}\")\n"
   ]
  }
 ],
 "metadata": {
  "interpreter": {
   "hash": "30295c5bec572e859485b1ffa5e89b8b3e2022ef6e3e739c1ac40f143a557caf"
  },
  "kernelspec": {
   "display_name": "Python 3.6.15 64-bit",
   "language": "python",
   "name": "python3"
  },
  "language_info": {
   "codemirror_mode": {
    "name": "ipython",
    "version": 3
   },
   "file_extension": ".py",
   "mimetype": "text/x-python",
   "name": "python",
   "nbconvert_exporter": "python",
   "pygments_lexer": "ipython3",
   "version": "3.6.15"
  },
  "orig_nbformat": 4
 },
 "nbformat": 4,
 "nbformat_minor": 2
}
